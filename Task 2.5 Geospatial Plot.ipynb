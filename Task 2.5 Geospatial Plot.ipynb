{
 "cells": [
  {
   "cell_type": "code",
   "execution_count": 1,
   "id": "89c07c8d-049a-4323-87ac-6214afb85233",
   "metadata": {},
   "outputs": [],
   "source": [
    "import pandas as pd\n",
    "import os\n",
    "from keplergl import KeplerGl\n",
    "from pyproj import CRS\n",
    "import numpy as np\n",
    "from matplotlib import pyplot as plt"
   ]
  },
  {
   "cell_type": "code",
   "execution_count": 2,
   "id": "8a59e0d8-8463-442c-8fe1-17541ea54f46",
   "metadata": {},
   "outputs": [],
   "source": [
    "df = pd.read_parquet('2 Data/Prepped Data/nyc_data.parquet')"
   ]
  },
  {
   "cell_type": "code",
   "execution_count": 3,
   "id": "27d60a7e-0ae2-4350-bcb5-83412bea30b9",
   "metadata": {},
   "outputs": [
    {
     "data": {
      "text/html": [
       "<div>\n",
       "<style scoped>\n",
       "    .dataframe tbody tr th:only-of-type {\n",
       "        vertical-align: middle;\n",
       "    }\n",
       "\n",
       "    .dataframe tbody tr th {\n",
       "        vertical-align: top;\n",
       "    }\n",
       "\n",
       "    .dataframe thead th {\n",
       "        text-align: right;\n",
       "    }\n",
       "</style>\n",
       "<table border=\"1\" class=\"dataframe\">\n",
       "  <thead>\n",
       "    <tr style=\"text-align: right;\">\n",
       "      <th></th>\n",
       "      <th>rideable_type</th>\n",
       "      <th>started_at</th>\n",
       "      <th>ended_at</th>\n",
       "      <th>start_station_name</th>\n",
       "      <th>start_station_id</th>\n",
       "      <th>end_station_name</th>\n",
       "      <th>end_station_id</th>\n",
       "      <th>start_lat</th>\n",
       "      <th>start_lng</th>\n",
       "      <th>end_lat</th>\n",
       "      <th>end_lng</th>\n",
       "      <th>member_casual</th>\n",
       "      <th>date</th>\n",
       "      <th>avgTemp</th>\n",
       "      <th>trips</th>\n",
       "    </tr>\n",
       "  </thead>\n",
       "  <tbody>\n",
       "    <tr>\n",
       "      <th>0</th>\n",
       "      <td>electric_bike</td>\n",
       "      <td>2022-08-27 13:56:47.728</td>\n",
       "      <td>2022-08-27 14:02:56.651</td>\n",
       "      <td>Flatbush Ave &amp; Ocean Ave</td>\n",
       "      <td>3704.04</td>\n",
       "      <td>3 St &amp; Prospect Park West</td>\n",
       "      <td>3865.05</td>\n",
       "      <td>40.663658</td>\n",
       "      <td>-73.963013</td>\n",
       "      <td>40.668133</td>\n",
       "      <td>-73.973640</td>\n",
       "      <td>casual</td>\n",
       "      <td>2022-08-27</td>\n",
       "      <td>27.799999</td>\n",
       "      <td>1</td>\n",
       "    </tr>\n",
       "    <tr>\n",
       "      <th>1</th>\n",
       "      <td>electric_bike</td>\n",
       "      <td>2022-08-20 10:37:02.756</td>\n",
       "      <td>2022-08-20 10:45:56.631</td>\n",
       "      <td>Forsyth St\\t&amp; Grand St</td>\n",
       "      <td>5382.07</td>\n",
       "      <td>E 11 St &amp; 1 Ave</td>\n",
       "      <td>5746.14</td>\n",
       "      <td>40.717796</td>\n",
       "      <td>-73.993164</td>\n",
       "      <td>40.729538</td>\n",
       "      <td>-73.984268</td>\n",
       "      <td>casual</td>\n",
       "      <td>2022-08-20</td>\n",
       "      <td>27.900000</td>\n",
       "      <td>1</td>\n",
       "    </tr>\n",
       "    <tr>\n",
       "      <th>2</th>\n",
       "      <td>classic_bike</td>\n",
       "      <td>2022-08-31 18:55:03.051</td>\n",
       "      <td>2022-08-31 19:03:37.344</td>\n",
       "      <td>Perry St &amp; Bleecker St</td>\n",
       "      <td>5922.07</td>\n",
       "      <td>Grand St &amp; Greene St</td>\n",
       "      <td>5500.02</td>\n",
       "      <td>40.735355</td>\n",
       "      <td>-74.004829</td>\n",
       "      <td>40.721699</td>\n",
       "      <td>-74.002380</td>\n",
       "      <td>member</td>\n",
       "      <td>2022-08-31</td>\n",
       "      <td>25.600000</td>\n",
       "      <td>1</td>\n",
       "    </tr>\n",
       "    <tr>\n",
       "      <th>3</th>\n",
       "      <td>classic_bike</td>\n",
       "      <td>2022-08-02 08:05:00.250</td>\n",
       "      <td>2022-08-02 08:16:52.063</td>\n",
       "      <td>FDR Drive &amp; E 35 St</td>\n",
       "      <td>6230.04</td>\n",
       "      <td>Grand Army Plaza &amp; Central Park S</td>\n",
       "      <td>6839.10</td>\n",
       "      <td>40.744221</td>\n",
       "      <td>-73.971214</td>\n",
       "      <td>40.764397</td>\n",
       "      <td>-73.973717</td>\n",
       "      <td>member</td>\n",
       "      <td>2022-08-02</td>\n",
       "      <td>26.400000</td>\n",
       "      <td>1</td>\n",
       "    </tr>\n",
       "    <tr>\n",
       "      <th>4</th>\n",
       "      <td>electric_bike</td>\n",
       "      <td>2022-08-25 15:44:48.386</td>\n",
       "      <td>2022-08-25 15:55:39.691</td>\n",
       "      <td>E 40 St &amp; 5 Ave</td>\n",
       "      <td>6474.11</td>\n",
       "      <td>Ave A &amp; E 14 St</td>\n",
       "      <td>5779.11</td>\n",
       "      <td>40.752052</td>\n",
       "      <td>-73.982117</td>\n",
       "      <td>40.730312</td>\n",
       "      <td>-73.980469</td>\n",
       "      <td>member</td>\n",
       "      <td>2022-08-25</td>\n",
       "      <td>28.100000</td>\n",
       "      <td>1</td>\n",
       "    </tr>\n",
       "  </tbody>\n",
       "</table>\n",
       "</div>"
      ],
      "text/plain": [
       "   rideable_type              started_at                ended_at  \\\n",
       "0  electric_bike 2022-08-27 13:56:47.728 2022-08-27 14:02:56.651   \n",
       "1  electric_bike 2022-08-20 10:37:02.756 2022-08-20 10:45:56.631   \n",
       "2   classic_bike 2022-08-31 18:55:03.051 2022-08-31 19:03:37.344   \n",
       "3   classic_bike 2022-08-02 08:05:00.250 2022-08-02 08:16:52.063   \n",
       "4  electric_bike 2022-08-25 15:44:48.386 2022-08-25 15:55:39.691   \n",
       "\n",
       "         start_station_name start_station_id  \\\n",
       "0  Flatbush Ave & Ocean Ave          3704.04   \n",
       "1    Forsyth St\\t& Grand St          5382.07   \n",
       "2    Perry St & Bleecker St          5922.07   \n",
       "3       FDR Drive & E 35 St          6230.04   \n",
       "4           E 40 St & 5 Ave          6474.11   \n",
       "\n",
       "                    end_station_name end_station_id  start_lat  start_lng  \\\n",
       "0          3 St & Prospect Park West        3865.05  40.663658 -73.963013   \n",
       "1                    E 11 St & 1 Ave        5746.14  40.717796 -73.993164   \n",
       "2               Grand St & Greene St        5500.02  40.735355 -74.004829   \n",
       "3  Grand Army Plaza & Central Park S        6839.10  40.744221 -73.971214   \n",
       "4                    Ave A & E 14 St        5779.11  40.752052 -73.982117   \n",
       "\n",
       "     end_lat    end_lng member_casual       date    avgTemp  trips  \n",
       "0  40.668133 -73.973640        casual 2022-08-27  27.799999      1  \n",
       "1  40.729538 -73.984268        casual 2022-08-20  27.900000      1  \n",
       "2  40.721699 -74.002380        member 2022-08-31  25.600000      1  \n",
       "3  40.764397 -73.973717        member 2022-08-02  26.400000      1  \n",
       "4  40.730312 -73.980469        member 2022-08-25  28.100000      1  "
      ]
     },
     "execution_count": 3,
     "metadata": {},
     "output_type": "execute_result"
    }
   ],
   "source": [
    "df.head()"
   ]
  },
  {
   "cell_type": "code",
   "execution_count": 4,
   "id": "ff0e85f2-8bb0-4e5c-b827-61c53842592d",
   "metadata": {},
   "outputs": [
    {
     "data": {
      "text/plain": [
       "rideable_type               category\n",
       "started_at            datetime64[ns]\n",
       "ended_at              datetime64[ns]\n",
       "start_station_name            string\n",
       "start_station_id            category\n",
       "end_station_name              string\n",
       "end_station_id              category\n",
       "start_lat                    float32\n",
       "start_lng                    float32\n",
       "end_lat                      float32\n",
       "end_lng                      float32\n",
       "member_casual               category\n",
       "date                  datetime64[ns]\n",
       "avgTemp                      float32\n",
       "trips                          int64\n",
       "dtype: object"
      ]
     },
     "execution_count": 4,
     "metadata": {},
     "output_type": "execute_result"
    }
   ],
   "source": [
    "df.dtypes"
   ]
  },
  {
   "cell_type": "code",
   "execution_count": 5,
   "id": "c9711104-fe82-479d-9fb1-9d34382d045c",
   "metadata": {},
   "outputs": [],
   "source": [
    "# Group by start and end stations\n",
    "\n",
    "df_group = df.groupby(['start_station_name', 'end_station_name'])['trips'].count().reset_index()"
   ]
  },
  {
   "cell_type": "code",
   "execution_count": 6,
   "id": "bf87045a-45d2-4860-9222-863f2c0aff46",
   "metadata": {},
   "outputs": [
    {
     "data": {
      "text/html": [
       "<div>\n",
       "<style scoped>\n",
       "    .dataframe tbody tr th:only-of-type {\n",
       "        vertical-align: middle;\n",
       "    }\n",
       "\n",
       "    .dataframe tbody tr th {\n",
       "        vertical-align: top;\n",
       "    }\n",
       "\n",
       "    .dataframe thead th {\n",
       "        text-align: right;\n",
       "    }\n",
       "</style>\n",
       "<table border=\"1\" class=\"dataframe\">\n",
       "  <thead>\n",
       "    <tr style=\"text-align: right;\">\n",
       "      <th></th>\n",
       "      <th>start_station_name</th>\n",
       "      <th>end_station_name</th>\n",
       "      <th>trips</th>\n",
       "    </tr>\n",
       "  </thead>\n",
       "  <tbody>\n",
       "    <tr>\n",
       "      <th>0</th>\n",
       "      <td>1 Ave &amp; E 110 St</td>\n",
       "      <td>1 Ave &amp; E 110 St</td>\n",
       "      <td>791</td>\n",
       "    </tr>\n",
       "    <tr>\n",
       "      <th>1</th>\n",
       "      <td>1 Ave &amp; E 110 St</td>\n",
       "      <td>1 Ave &amp; E 18 St</td>\n",
       "      <td>2</td>\n",
       "    </tr>\n",
       "    <tr>\n",
       "      <th>2</th>\n",
       "      <td>1 Ave &amp; E 110 St</td>\n",
       "      <td>1 Ave &amp; E 30 St</td>\n",
       "      <td>4</td>\n",
       "    </tr>\n",
       "    <tr>\n",
       "      <th>3</th>\n",
       "      <td>1 Ave &amp; E 110 St</td>\n",
       "      <td>1 Ave &amp; E 39 St</td>\n",
       "      <td>1</td>\n",
       "    </tr>\n",
       "    <tr>\n",
       "      <th>4</th>\n",
       "      <td>1 Ave &amp; E 110 St</td>\n",
       "      <td>1 Ave &amp; E 44 St</td>\n",
       "      <td>12</td>\n",
       "    </tr>\n",
       "    <tr>\n",
       "      <th>...</th>\n",
       "      <td>...</td>\n",
       "      <td>...</td>\n",
       "      <td>...</td>\n",
       "    </tr>\n",
       "    <tr>\n",
       "      <th>1020345</th>\n",
       "      <td>York St &amp; Marin Blvd</td>\n",
       "      <td>Van Vorst Park</td>\n",
       "      <td>18</td>\n",
       "    </tr>\n",
       "    <tr>\n",
       "      <th>1020346</th>\n",
       "      <td>York St &amp; Marin Blvd</td>\n",
       "      <td>Warren St</td>\n",
       "      <td>42</td>\n",
       "    </tr>\n",
       "    <tr>\n",
       "      <th>1020347</th>\n",
       "      <td>York St &amp; Marin Blvd</td>\n",
       "      <td>Washington St</td>\n",
       "      <td>16</td>\n",
       "    </tr>\n",
       "    <tr>\n",
       "      <th>1020348</th>\n",
       "      <td>York St &amp; Marin Blvd</td>\n",
       "      <td>Willow Ave &amp; 12 St</td>\n",
       "      <td>1</td>\n",
       "    </tr>\n",
       "    <tr>\n",
       "      <th>1020349</th>\n",
       "      <td>York St &amp; Marin Blvd</td>\n",
       "      <td>York St &amp; Marin Blvd</td>\n",
       "      <td>47</td>\n",
       "    </tr>\n",
       "  </tbody>\n",
       "</table>\n",
       "<p>1020350 rows × 3 columns</p>\n",
       "</div>"
      ],
      "text/plain": [
       "           start_station_name      end_station_name  trips\n",
       "0            1 Ave & E 110 St      1 Ave & E 110 St    791\n",
       "1            1 Ave & E 110 St       1 Ave & E 18 St      2\n",
       "2            1 Ave & E 110 St       1 Ave & E 30 St      4\n",
       "3            1 Ave & E 110 St       1 Ave & E 39 St      1\n",
       "4            1 Ave & E 110 St       1 Ave & E 44 St     12\n",
       "...                       ...                   ...    ...\n",
       "1020345  York St & Marin Blvd        Van Vorst Park     18\n",
       "1020346  York St & Marin Blvd             Warren St     42\n",
       "1020347  York St & Marin Blvd         Washington St     16\n",
       "1020348  York St & Marin Blvd    Willow Ave & 12 St      1\n",
       "1020349  York St & Marin Blvd  York St & Marin Blvd     47\n",
       "\n",
       "[1020350 rows x 3 columns]"
      ]
     },
     "execution_count": 6,
     "metadata": {},
     "output_type": "execute_result"
    }
   ],
   "source": [
    "df_group"
   ]
  },
  {
   "cell_type": "code",
   "execution_count": 7,
   "id": "e908aae7-539f-41f2-8251-3207240b1ba6",
   "metadata": {},
   "outputs": [],
   "source": [
    "# Merge lat/lng columns from df with df_group\n",
    "\n",
    "columns_to_merge = ['start_station_name', 'start_lat', 'start_lng', 'end_lat', 'end_lng']\n",
    "location_df = df[columns_to_merge].drop_duplicates(subset = 'start_station_name')"
   ]
  },
  {
   "cell_type": "code",
   "execution_count": 8,
   "id": "25b75d69-8580-447f-b4c7-6f22ee677a79",
   "metadata": {},
   "outputs": [],
   "source": [
    "df_m = df_group.merge(location_df, on='start_station_name', how='left', indicator = 'merge_flag')"
   ]
  },
  {
   "cell_type": "code",
   "execution_count": 9,
   "id": "ea986c47-bac9-42a5-8ba1-4017d0e9c48e",
   "metadata": {},
   "outputs": [
    {
     "data": {
      "text/html": [
       "<div>\n",
       "<style scoped>\n",
       "    .dataframe tbody tr th:only-of-type {\n",
       "        vertical-align: middle;\n",
       "    }\n",
       "\n",
       "    .dataframe tbody tr th {\n",
       "        vertical-align: top;\n",
       "    }\n",
       "\n",
       "    .dataframe thead th {\n",
       "        text-align: right;\n",
       "    }\n",
       "</style>\n",
       "<table border=\"1\" class=\"dataframe\">\n",
       "  <thead>\n",
       "    <tr style=\"text-align: right;\">\n",
       "      <th></th>\n",
       "      <th>start_station_name</th>\n",
       "      <th>end_station_name</th>\n",
       "      <th>trips</th>\n",
       "      <th>start_lat</th>\n",
       "      <th>start_lng</th>\n",
       "      <th>end_lat</th>\n",
       "      <th>end_lng</th>\n",
       "      <th>merge_flag</th>\n",
       "    </tr>\n",
       "  </thead>\n",
       "  <tbody>\n",
       "    <tr>\n",
       "      <th>0</th>\n",
       "      <td>1 Ave &amp; E 110 St</td>\n",
       "      <td>1 Ave &amp; E 110 St</td>\n",
       "      <td>791</td>\n",
       "      <td>40.792339</td>\n",
       "      <td>-73.93824</td>\n",
       "      <td>40.792328</td>\n",
       "      <td>-73.938301</td>\n",
       "      <td>both</td>\n",
       "    </tr>\n",
       "    <tr>\n",
       "      <th>1</th>\n",
       "      <td>1 Ave &amp; E 110 St</td>\n",
       "      <td>1 Ave &amp; E 18 St</td>\n",
       "      <td>2</td>\n",
       "      <td>40.792339</td>\n",
       "      <td>-73.93824</td>\n",
       "      <td>40.792328</td>\n",
       "      <td>-73.938301</td>\n",
       "      <td>both</td>\n",
       "    </tr>\n",
       "    <tr>\n",
       "      <th>2</th>\n",
       "      <td>1 Ave &amp; E 110 St</td>\n",
       "      <td>1 Ave &amp; E 30 St</td>\n",
       "      <td>4</td>\n",
       "      <td>40.792339</td>\n",
       "      <td>-73.93824</td>\n",
       "      <td>40.792328</td>\n",
       "      <td>-73.938301</td>\n",
       "      <td>both</td>\n",
       "    </tr>\n",
       "    <tr>\n",
       "      <th>3</th>\n",
       "      <td>1 Ave &amp; E 110 St</td>\n",
       "      <td>1 Ave &amp; E 39 St</td>\n",
       "      <td>1</td>\n",
       "      <td>40.792339</td>\n",
       "      <td>-73.93824</td>\n",
       "      <td>40.792328</td>\n",
       "      <td>-73.938301</td>\n",
       "      <td>both</td>\n",
       "    </tr>\n",
       "    <tr>\n",
       "      <th>4</th>\n",
       "      <td>1 Ave &amp; E 110 St</td>\n",
       "      <td>1 Ave &amp; E 44 St</td>\n",
       "      <td>12</td>\n",
       "      <td>40.792339</td>\n",
       "      <td>-73.93824</td>\n",
       "      <td>40.792328</td>\n",
       "      <td>-73.938301</td>\n",
       "      <td>both</td>\n",
       "    </tr>\n",
       "  </tbody>\n",
       "</table>\n",
       "</div>"
      ],
      "text/plain": [
       "  start_station_name  end_station_name  trips  start_lat  start_lng  \\\n",
       "0   1 Ave & E 110 St  1 Ave & E 110 St    791  40.792339  -73.93824   \n",
       "1   1 Ave & E 110 St   1 Ave & E 18 St      2  40.792339  -73.93824   \n",
       "2   1 Ave & E 110 St   1 Ave & E 30 St      4  40.792339  -73.93824   \n",
       "3   1 Ave & E 110 St   1 Ave & E 39 St      1  40.792339  -73.93824   \n",
       "4   1 Ave & E 110 St   1 Ave & E 44 St     12  40.792339  -73.93824   \n",
       "\n",
       "     end_lat    end_lng merge_flag  \n",
       "0  40.792328 -73.938301       both  \n",
       "1  40.792328 -73.938301       both  \n",
       "2  40.792328 -73.938301       both  \n",
       "3  40.792328 -73.938301       both  \n",
       "4  40.792328 -73.938301       both  "
      ]
     },
     "execution_count": 9,
     "metadata": {},
     "output_type": "execute_result"
    }
   ],
   "source": [
    "df_m.head()"
   ]
  },
  {
   "cell_type": "code",
   "execution_count": 10,
   "id": "f5189872-2c3e-4347-a91b-0050e10f733c",
   "metadata": {},
   "outputs": [],
   "source": [
    "# Change column names\n",
    "\n",
    "df_m.rename(columns={\n",
    "    'start_lng': 'start_lon',\n",
    "    'end_lng': 'end_lon'\n",
    "}, inplace=True)"
   ]
  },
  {
   "cell_type": "code",
   "execution_count": 11,
   "id": "dda64e69-654a-4227-a74b-877b73f8b0ac",
   "metadata": {},
   "outputs": [
    {
     "data": {
      "text/plain": [
       "(1020350, 8)"
      ]
     },
     "execution_count": 11,
     "metadata": {},
     "output_type": "execute_result"
    }
   ],
   "source": [
    "df_m.shape"
   ]
  },
  {
   "cell_type": "code",
   "execution_count": 12,
   "id": "83844d70-22b6-4609-9e85-25c17cae5721",
   "metadata": {},
   "outputs": [
    {
     "data": {
      "text/plain": [
       "both          1020350\n",
       "left_only           0\n",
       "right_only          0\n",
       "Name: merge_flag, dtype: int64"
      ]
     },
     "execution_count": 12,
     "metadata": {},
     "output_type": "execute_result"
    }
   ],
   "source": [
    "df_m['merge_flag'].value_counts(dropna = False)"
   ]
  },
  {
   "cell_type": "code",
   "execution_count": 13,
   "id": "39f2cb3b-e42c-4040-9a4b-9b18927af560",
   "metadata": {},
   "outputs": [],
   "source": [
    "df_m.drop(columns = 'merge_flag', inplace = True)"
   ]
  },
  {
   "cell_type": "code",
   "execution_count": 14,
   "id": "47f623dc-9d59-45e0-95bf-d1c4fe4ed5cf",
   "metadata": {},
   "outputs": [
    {
     "data": {
      "text/plain": [
       "Index(['start_station_name', 'end_station_name', 'trips', 'start_lat',\n",
       "       'start_lon', 'end_lat', 'end_lon'],\n",
       "      dtype='object')"
      ]
     },
     "execution_count": 14,
     "metadata": {},
     "output_type": "execute_result"
    }
   ],
   "source": [
    "df_m.columns"
   ]
  },
  {
   "cell_type": "code",
   "execution_count": 15,
   "id": "1cc9e34e-ec05-44dc-a2fa-eb42f27c52dd",
   "metadata": {},
   "outputs": [
    {
     "data": {
      "text/plain": [
       "0"
      ]
     },
     "execution_count": 15,
     "metadata": {},
     "output_type": "execute_result"
    }
   ],
   "source": [
    "import gc\n",
    "gc.collect()"
   ]
  },
  {
   "cell_type": "markdown",
   "id": "794d609b-648e-4ed8-992c-914166253a24",
   "metadata": {},
   "source": [
    "## Standardize lat/long coordinates"
   ]
  },
  {
   "cell_type": "code",
   "execution_count": 16,
   "id": "1c756e4f-653c-44b2-a3ca-b8efb88d4a70",
   "metadata": {},
   "outputs": [
    {
     "name": "stdout",
     "output_type": "stream",
     "text": [
      "Empty DataFrame\n",
      "Columns: [start_lat, start_lon]\n",
      "Index: []\n"
     ]
    }
   ],
   "source": [
    "# Group by start station and count distinct lat/lng combinations\n",
    "start_var_coords = (\n",
    "    df_m\n",
    "    .dropna(subset=['start_station_name', 'start_lat', 'start_lon'])\n",
    "    .groupby('start_station_name')[['start_lat', 'start_lon']]\n",
    "    .nunique()\n",
    ")\n",
    "\n",
    "# Filter to show stations with more than one lat or lng value\n",
    "start_var_coords = start_var_coords[\n",
    "    (start_var_coords['start_lat'] > 1) | (start_var_coords['start_lon'] > 1)\n",
    "]\n",
    "\n",
    "print(start_var_coords.sort_values(['start_lat', 'start_lon'], ascending=False))"
   ]
  },
  {
   "cell_type": "code",
   "execution_count": 17,
   "id": "b8850249-4534-4053-99bd-c053988eda4e",
   "metadata": {},
   "outputs": [
    {
     "name": "stdout",
     "output_type": "stream",
     "text": [
      "                          end_lat  end_lon\n",
      "end_station_name                          \n",
      "Cleveland Pl & Spring St      124      123\n",
      "1 Ave & E 68 St               122      121\n",
      "N 6 St & Bedford Ave          119      118\n",
      "Broadway & W 58 St            118      118\n",
      "Kent Ave & N 7 St             117      116\n",
      "...                           ...      ...\n",
      "E 6 St 2 Ave                    5        5\n",
      "Shop Morgan                     4        4\n",
      "Lab - NYC                       3        3\n",
      "Sharon St & Olive St_new        3        3\n",
      "JCBS Depot                      2        2\n",
      "\n",
      "[1847 rows x 2 columns]\n"
     ]
    }
   ],
   "source": [
    "# Same as above for end stations\n",
    "end_var_coords = (\n",
    "    df_m\n",
    "    .dropna(subset=['end_station_name', 'end_lat', 'end_lon'])\n",
    "    .groupby('end_station_name')[['end_lat', 'end_lon']]\n",
    "    .nunique()\n",
    ")\n",
    "\n",
    "end_var_coords = end_var_coords[\n",
    "    (end_var_coords['end_lat'] > 1) | (end_var_coords['end_lon'] > 1)\n",
    "]\n",
    "\n",
    "print(end_var_coords.sort_values(['end_lat', 'end_lon'], ascending=False))"
   ]
  },
  {
   "cell_type": "code",
   "execution_count": 18,
   "id": "789f907b-d33e-48d3-9b31-dda8e954ae6a",
   "metadata": {},
   "outputs": [],
   "source": [
    "# Use the most frequent lat/lon pair per station\n",
    "# Build a lookup table of the most frequent lat/lng per start_station_name\n",
    "start_coords_mode = (\n",
    "    df_m\n",
    "    .dropna(subset=['start_station_name', 'start_lat', 'start_lon'])\n",
    "    .groupby(['start_station_name', 'start_lat', 'start_lon'])\n",
    "    .size()\n",
    "    .reset_index(name='count')\n",
    "    .sort_values('count', ascending=False)\n",
    "    .drop_duplicates('start_station_name')\n",
    "    .drop(columns='count')\n",
    ")"
   ]
  },
  {
   "cell_type": "code",
   "execution_count": 19,
   "id": "385051cb-3619-4bf1-9fad-ceb6b5bf16ed",
   "metadata": {},
   "outputs": [],
   "source": [
    "# Update df_m with standardized values\n",
    "# Drop current start lat/lon and re-merge standard values\n",
    "\n",
    "df_m = df_m.drop(columns=['start_lat', 'start_lon'])\n",
    "\n",
    "df_m = df_m.merge(\n",
    "    start_coords_mode,\n",
    "    on='start_station_name',\n",
    "    how='left'\n",
    ")"
   ]
  },
  {
   "cell_type": "code",
   "execution_count": 20,
   "id": "f71d95b0-a66a-40a2-9d49-43f834213b08",
   "metadata": {},
   "outputs": [],
   "source": [
    "# Use the most frequent lat/lon pair per station\n",
    "# Build a lookup table of the most frequent lat/lng per end_station_name\n",
    "end_coords_mode = (\n",
    "    df_m\n",
    "    .dropna(subset=['end_station_name', 'end_lat', 'end_lon'])\n",
    "    .groupby(['end_station_name', 'end_lat', 'end_lon'])\n",
    "    .size()\n",
    "    .reset_index(name='count')\n",
    "    .sort_values('count', ascending=False)\n",
    "    .drop_duplicates('end_station_name')\n",
    "    .drop(columns='count')\n",
    ")"
   ]
  },
  {
   "cell_type": "code",
   "execution_count": 21,
   "id": "733faff6-bd76-4122-ba3b-b1c5724e00b8",
   "metadata": {},
   "outputs": [],
   "source": [
    "# Update df_m with standardized values\n",
    "# Drop current end lat/lon and re-merge standard values\n",
    "\n",
    "df_m = df_m.drop(columns=['end_lat', 'end_lon'])\n",
    "\n",
    "df_m = df_m.merge(\n",
    "    end_coords_mode,\n",
    "    on='end_station_name',\n",
    "    how='left'\n",
    ")"
   ]
  },
  {
   "cell_type": "code",
   "execution_count": 22,
   "id": "83526483-89d5-4eca-97ec-c978d4733976",
   "metadata": {},
   "outputs": [
    {
     "data": {
      "text/plain": [
       "start_lat    0\n",
       "start_lon    0\n",
       "dtype: int64"
      ]
     },
     "execution_count": 22,
     "metadata": {},
     "output_type": "execute_result"
    }
   ],
   "source": [
    "# Check start lat/lon\n",
    "\n",
    "df_m[['start_lat', 'start_lon']].isna().sum()"
   ]
  },
  {
   "cell_type": "code",
   "execution_count": 23,
   "id": "fdaa0089-74a1-44ba-9c42-12cb19c293de",
   "metadata": {},
   "outputs": [
    {
     "data": {
      "text/plain": [
       "end_lat    0\n",
       "end_lon    0\n",
       "dtype: int64"
      ]
     },
     "execution_count": 23,
     "metadata": {},
     "output_type": "execute_result"
    }
   ],
   "source": [
    "# Check end lat/lon\n",
    "\n",
    "df_m[['end_lat', 'end_lon']].isna().sum()"
   ]
  },
  {
   "cell_type": "code",
   "execution_count": 24,
   "id": "671e84c5-c1bb-4e34-a2bb-d526cfc22733",
   "metadata": {},
   "outputs": [
    {
     "data": {
      "text/html": [
       "<div>\n",
       "<style scoped>\n",
       "    .dataframe tbody tr th:only-of-type {\n",
       "        vertical-align: middle;\n",
       "    }\n",
       "\n",
       "    .dataframe tbody tr th {\n",
       "        vertical-align: top;\n",
       "    }\n",
       "\n",
       "    .dataframe thead th {\n",
       "        text-align: right;\n",
       "    }\n",
       "</style>\n",
       "<table border=\"1\" class=\"dataframe\">\n",
       "  <thead>\n",
       "    <tr style=\"text-align: right;\">\n",
       "      <th></th>\n",
       "      <th>start_station_name</th>\n",
       "      <th>end_station_name</th>\n",
       "      <th>trips</th>\n",
       "      <th>start_lat</th>\n",
       "      <th>start_lon</th>\n",
       "      <th>end_lat</th>\n",
       "      <th>end_lon</th>\n",
       "    </tr>\n",
       "  </thead>\n",
       "  <tbody>\n",
       "    <tr>\n",
       "      <th>0</th>\n",
       "      <td>1 Ave &amp; E 110 St</td>\n",
       "      <td>1 Ave &amp; E 110 St</td>\n",
       "      <td>791</td>\n",
       "      <td>40.792339</td>\n",
       "      <td>-73.93824</td>\n",
       "      <td>40.744877</td>\n",
       "      <td>-73.9953</td>\n",
       "    </tr>\n",
       "    <tr>\n",
       "      <th>1</th>\n",
       "      <td>1 Ave &amp; E 110 St</td>\n",
       "      <td>1 Ave &amp; E 18 St</td>\n",
       "      <td>2</td>\n",
       "      <td>40.792339</td>\n",
       "      <td>-73.93824</td>\n",
       "      <td>40.744877</td>\n",
       "      <td>-73.9953</td>\n",
       "    </tr>\n",
       "    <tr>\n",
       "      <th>2</th>\n",
       "      <td>1 Ave &amp; E 110 St</td>\n",
       "      <td>1 Ave &amp; E 30 St</td>\n",
       "      <td>4</td>\n",
       "      <td>40.792339</td>\n",
       "      <td>-73.93824</td>\n",
       "      <td>40.744877</td>\n",
       "      <td>-73.9953</td>\n",
       "    </tr>\n",
       "    <tr>\n",
       "      <th>3</th>\n",
       "      <td>1 Ave &amp; E 110 St</td>\n",
       "      <td>1 Ave &amp; E 39 St</td>\n",
       "      <td>1</td>\n",
       "      <td>40.792339</td>\n",
       "      <td>-73.93824</td>\n",
       "      <td>40.744877</td>\n",
       "      <td>-73.9953</td>\n",
       "    </tr>\n",
       "    <tr>\n",
       "      <th>4</th>\n",
       "      <td>1 Ave &amp; E 110 St</td>\n",
       "      <td>1 Ave &amp; E 44 St</td>\n",
       "      <td>12</td>\n",
       "      <td>40.792339</td>\n",
       "      <td>-73.93824</td>\n",
       "      <td>40.744877</td>\n",
       "      <td>-73.9953</td>\n",
       "    </tr>\n",
       "  </tbody>\n",
       "</table>\n",
       "</div>"
      ],
      "text/plain": [
       "  start_station_name  end_station_name  trips  start_lat  start_lon  \\\n",
       "0   1 Ave & E 110 St  1 Ave & E 110 St    791  40.792339  -73.93824   \n",
       "1   1 Ave & E 110 St   1 Ave & E 18 St      2  40.792339  -73.93824   \n",
       "2   1 Ave & E 110 St   1 Ave & E 30 St      4  40.792339  -73.93824   \n",
       "3   1 Ave & E 110 St   1 Ave & E 39 St      1  40.792339  -73.93824   \n",
       "4   1 Ave & E 110 St   1 Ave & E 44 St     12  40.792339  -73.93824   \n",
       "\n",
       "     end_lat  end_lon  \n",
       "0  40.744877 -73.9953  \n",
       "1  40.744877 -73.9953  \n",
       "2  40.744877 -73.9953  \n",
       "3  40.744877 -73.9953  \n",
       "4  40.744877 -73.9953  "
      ]
     },
     "execution_count": 24,
     "metadata": {},
     "output_type": "execute_result"
    }
   ],
   "source": [
    "df_m.head()"
   ]
  },
  {
   "cell_type": "code",
   "execution_count": 25,
   "id": "8430d6d3-637c-40ea-824a-ddccfa9d7714",
   "metadata": {},
   "outputs": [
    {
     "name": "stdout",
     "output_type": "stream",
     "text": [
      "12041\n"
     ]
    }
   ],
   "source": [
    "print(df_m['trips'].max())"
   ]
  },
  {
   "cell_type": "code",
   "execution_count": 26,
   "id": "a14189ce-6726-4241-96ea-1a90564a62bf",
   "metadata": {},
   "outputs": [],
   "source": [
    "# Save merged dataset\n",
    "\n",
    "df_m.to_parquet('2 Data/Prepped Data/nyc_merged.parquet', index=False)"
   ]
  },
  {
   "cell_type": "code",
   "execution_count": 27,
   "id": "05077f13-57af-4304-825f-c095ceca79bc",
   "metadata": {},
   "outputs": [
    {
     "data": {
      "text/plain": [
       "start_station_name     string\n",
       "end_station_name       string\n",
       "trips                   int64\n",
       "start_lat             float64\n",
       "start_lon             float64\n",
       "end_lat               float64\n",
       "end_lon               float64\n",
       "dtype: object"
      ]
     },
     "execution_count": 27,
     "metadata": {},
     "output_type": "execute_result"
    }
   ],
   "source": [
    "df_m.dtypes"
   ]
  },
  {
   "cell_type": "code",
   "execution_count": 28,
   "id": "54408012-a62b-429c-b242-4a1389464c6d",
   "metadata": {},
   "outputs": [],
   "source": [
    "df_m['trips'] = df_m['trips'].astype(float)"
   ]
  },
  {
   "cell_type": "code",
   "execution_count": 35,
   "id": "ceb83fa3-9849-4633-a958-ced007f754c5",
   "metadata": {},
   "outputs": [
    {
     "data": {
      "text/plain": [
       "(1020350, 7)"
      ]
     },
     "execution_count": 35,
     "metadata": {},
     "output_type": "execute_result"
    }
   ],
   "source": [
    "df_m.shape"
   ]
  },
  {
   "cell_type": "code",
   "execution_count": 39,
   "id": "376bbb78-3c88-4ecb-83dd-137887eb150d",
   "metadata": {},
   "outputs": [],
   "source": [
    "df_reduced = df_m[df_m['trips'] > 500]"
   ]
  },
  {
   "cell_type": "code",
   "execution_count": 40,
   "id": "9c427088-6dd6-4afe-ad53-3e04720536ff",
   "metadata": {},
   "outputs": [
    {
     "data": {
      "text/html": [
       "<div>\n",
       "<style scoped>\n",
       "    .dataframe tbody tr th:only-of-type {\n",
       "        vertical-align: middle;\n",
       "    }\n",
       "\n",
       "    .dataframe tbody tr th {\n",
       "        vertical-align: top;\n",
       "    }\n",
       "\n",
       "    .dataframe thead th {\n",
       "        text-align: right;\n",
       "    }\n",
       "</style>\n",
       "<table border=\"1\" class=\"dataframe\">\n",
       "  <thead>\n",
       "    <tr style=\"text-align: right;\">\n",
       "      <th></th>\n",
       "      <th>start_station_name</th>\n",
       "      <th>end_station_name</th>\n",
       "      <th>trips</th>\n",
       "      <th>start_lat</th>\n",
       "      <th>start_lon</th>\n",
       "      <th>end_lat</th>\n",
       "      <th>end_lon</th>\n",
       "    </tr>\n",
       "  </thead>\n",
       "  <tbody>\n",
       "    <tr>\n",
       "      <th>0</th>\n",
       "      <td>1 Ave &amp; E 110 St</td>\n",
       "      <td>1 Ave &amp; E 110 St</td>\n",
       "      <td>791.0</td>\n",
       "      <td>40.792339</td>\n",
       "      <td>-73.93824</td>\n",
       "      <td>40.744877</td>\n",
       "      <td>-73.9953</td>\n",
       "    </tr>\n",
       "    <tr>\n",
       "      <th>25</th>\n",
       "      <td>1 Ave &amp; E 110 St</td>\n",
       "      <td>2 Ave &amp; E 96 St</td>\n",
       "      <td>1355.0</td>\n",
       "      <td>40.792339</td>\n",
       "      <td>-73.93824</td>\n",
       "      <td>40.744877</td>\n",
       "      <td>-73.9953</td>\n",
       "    </tr>\n",
       "    <tr>\n",
       "      <th>228</th>\n",
       "      <td>1 Ave &amp; E 110 St</td>\n",
       "      <td>E 114 St &amp; 1 Ave</td>\n",
       "      <td>520.0</td>\n",
       "      <td>40.792339</td>\n",
       "      <td>-73.93824</td>\n",
       "      <td>40.744877</td>\n",
       "      <td>-73.9953</td>\n",
       "    </tr>\n",
       "    <tr>\n",
       "      <th>444</th>\n",
       "      <td>1 Ave &amp; E 110 St</td>\n",
       "      <td>Lenox Ave &amp; W 111 St</td>\n",
       "      <td>792.0</td>\n",
       "      <td>40.792339</td>\n",
       "      <td>-73.93824</td>\n",
       "      <td>40.744877</td>\n",
       "      <td>-73.9953</td>\n",
       "    </tr>\n",
       "    <tr>\n",
       "      <th>454</th>\n",
       "      <td>1 Ave &amp; E 110 St</td>\n",
       "      <td>Lexington Ave &amp; E 111 St</td>\n",
       "      <td>1259.0</td>\n",
       "      <td>40.792339</td>\n",
       "      <td>-73.93824</td>\n",
       "      <td>40.744877</td>\n",
       "      <td>-73.9953</td>\n",
       "    </tr>\n",
       "  </tbody>\n",
       "</table>\n",
       "</div>"
      ],
      "text/plain": [
       "    start_station_name          end_station_name   trips  start_lat  \\\n",
       "0     1 Ave & E 110 St          1 Ave & E 110 St   791.0  40.792339   \n",
       "25    1 Ave & E 110 St           2 Ave & E 96 St  1355.0  40.792339   \n",
       "228   1 Ave & E 110 St          E 114 St & 1 Ave   520.0  40.792339   \n",
       "444   1 Ave & E 110 St      Lenox Ave & W 111 St   792.0  40.792339   \n",
       "454   1 Ave & E 110 St  Lexington Ave & E 111 St  1259.0  40.792339   \n",
       "\n",
       "     start_lon    end_lat  end_lon  \n",
       "0    -73.93824  40.744877 -73.9953  \n",
       "25   -73.93824  40.744877 -73.9953  \n",
       "228  -73.93824  40.744877 -73.9953  \n",
       "444  -73.93824  40.744877 -73.9953  \n",
       "454  -73.93824  40.744877 -73.9953  "
      ]
     },
     "execution_count": 40,
     "metadata": {},
     "output_type": "execute_result"
    }
   ],
   "source": [
    "df_reduced.head()"
   ]
  },
  {
   "cell_type": "code",
   "execution_count": 41,
   "id": "decb1de8-4199-4bc9-9782-a20be00657e0",
   "metadata": {},
   "outputs": [
    {
     "data": {
      "text/plain": [
       "(7350, 7)"
      ]
     },
     "execution_count": 41,
     "metadata": {},
     "output_type": "execute_result"
    }
   ],
   "source": [
    "df_reduced.shape"
   ]
  },
  {
   "cell_type": "code",
   "execution_count": 42,
   "id": "ce4ed82d-622a-4ae7-bac0-ac2b583edc54",
   "metadata": {},
   "outputs": [
    {
     "name": "stdout",
     "output_type": "stream",
     "text": [
      "User Guide: https://docs.kepler.gl/docs/keplergl-jupyter\n"
     ]
    },
    {
     "data": {
      "application/vnd.jupyter.widget-view+json": {
       "model_id": "652d2bab95c94643a3a49adbc7199124",
       "version_major": 2,
       "version_minor": 0
      },
      "text/plain": [
       "KeplerGl(data={'NYC Trips': {'index': [0, 25, 228, 444, 454, 506, 713, 714, 715, 716, 742, 885, 916, 918, 1068…"
      ]
     },
     "execution_count": 42,
     "metadata": {},
     "output_type": "execute_result"
    }
   ],
   "source": [
    "# Create KeplerGl instance\n",
    "\n",
    "m = KeplerGl(height = 700)\n",
    "m.add_data(data = df_reduced, name = 'NYC Trips')\n",
    "m"
   ]
  },
  {
   "cell_type": "markdown",
   "id": "3212a230-f5cd-4cc8-966c-84268e118db8",
   "metadata": {},
   "source": [
    "#### I adjusted the colors of the map to mostly reflect those of the flag of New York City, which is blue, white, and orange. I would think New Yorkers would appreciate this color scheme. I used a light enough blue for the start points so that it can be distinguished from the background. The end points of the bike routes are the least featured color on the map. For those I used green, as it's a color easily distinguishable from the others used, and yet doesn't call too much attention away from things.\n",
    "\n",
    "#### To get to that point, I changed the \"Fill Color\" in the respective \"start\" and \"end\" drop-down menus. These were originally set up as 5-stepped colors. But in order to focus on the more popular routes in the city, I reduced the stepped colors down to 1. \n",
    "\n",
    "#### To change the arc colors I changed the \"Color\" in the \"start -> end arc\" drop-down menu.\n",
    "\n",
    "#### It's interesting that within the most common trips made, there are very few end-station points, and many start-station points. The most popular end points are near popular areas in, and actually outside the city. \n",
    "\n",
    "#### 11th and West 27th street is what looks like the most popular destination. This is near The High Line, which is an elevated park. Built on former railway tracks, it offers unique views of the city. Also nearby are: Chelsea Market, a popular food hall; Hudson Yards, large-scale development featuring the Vessel, a unique interactive art structure; The Museum of Modern Art (MoMA); Rockefeller Center. This makes sense, as it would be a popular for locals and tourists. \n",
    "\n",
    "#### Newport parkway, is actually in New Jersey, and offers views of the New York City skyline. Notable attractions nearby include Pier A Park, the Hoboken Waterfront, and Newport Centre Mall. The area is also known for its scenic walking areas and boat tours along the Hudson River. \n",
    "\n",
    "#### 4th and Jackson street is near Jackson Avenue Station, which is served by the 2 train at all hours. "
   ]
  },
  {
   "cell_type": "code",
   "execution_count": 43,
   "id": "fba460d5-e49e-4d5a-9820-ebee36d66596",
   "metadata": {},
   "outputs": [],
   "source": [
    "kepler_config = m.config"
   ]
  },
  {
   "cell_type": "code",
   "execution_count": 44,
   "id": "f51340a7-105c-45b3-aece-9f8e3f871a69",
   "metadata": {
    "scrolled": true
   },
   "outputs": [
    {
     "data": {
      "text/plain": [
       "{'version': 'v1',\n",
       " 'config': {'visState': {'filters': [{'dataId': ['NYC Trips'],\n",
       "     'id': '6wnrs2906',\n",
       "     'name': ['trips'],\n",
       "     'type': 'range',\n",
       "     'value': [1430, 12041],\n",
       "     'plotType': 'histogram',\n",
       "     'animationWindow': 'free',\n",
       "     'yAxis': None,\n",
       "     'view': 'side',\n",
       "     'speed': 1,\n",
       "     'enabled': True}],\n",
       "   'layers': [{'id': 'jd3v456',\n",
       "     'type': 'point',\n",
       "     'config': {'dataId': 'NYC Trips',\n",
       "      'label': 'start',\n",
       "      'color': [41, 76, 181],\n",
       "      'highlightColor': [252, 242, 26, 255],\n",
       "      'columns': {'lat': 'start_lat', 'lng': 'start_lon'},\n",
       "      'isVisible': True,\n",
       "      'visConfig': {'radius': 10,\n",
       "       'fixedRadius': False,\n",
       "       'opacity': 0.8,\n",
       "       'outline': False,\n",
       "       'thickness': 2,\n",
       "       'strokeColor': None,\n",
       "       'colorRange': {'name': 'Global Warming',\n",
       "        'type': 'sequential',\n",
       "        'category': 'Uber',\n",
       "        'colors': ['#5A1846',\n",
       "         '#900C3F',\n",
       "         '#C70039',\n",
       "         '#E3611C',\n",
       "         '#F1920E',\n",
       "         '#FFC300']},\n",
       "       'strokeColorRange': {'name': 'Global Warming',\n",
       "        'type': 'sequential',\n",
       "        'category': 'Uber',\n",
       "        'colors': ['#5A1846',\n",
       "         '#900C3F',\n",
       "         '#C70039',\n",
       "         '#E3611C',\n",
       "         '#F1920E',\n",
       "         '#FFC300']},\n",
       "       'radiusRange': [0, 50],\n",
       "       'filled': True},\n",
       "      'hidden': False,\n",
       "      'textLabel': [{'field': None,\n",
       "        'color': [255, 255, 255],\n",
       "        'size': 18,\n",
       "        'offset': [0, 0],\n",
       "        'anchor': 'start',\n",
       "        'alignment': 'center',\n",
       "        'outlineWidth': 0,\n",
       "        'outlineColor': [255, 0, 0, 255],\n",
       "        'background': False,\n",
       "        'backgroundColor': [0, 0, 200, 255]}]},\n",
       "     'visualChannels': {'colorField': None,\n",
       "      'colorScale': 'quantile',\n",
       "      'strokeColorField': None,\n",
       "      'strokeColorScale': 'quantile',\n",
       "      'sizeField': None,\n",
       "      'sizeScale': 'linear'}},\n",
       "    {'id': '40rulu8i',\n",
       "     'type': 'point',\n",
       "     'config': {'dataId': 'NYC Trips',\n",
       "      'label': 'end',\n",
       "      'color': [125, 194, 64],\n",
       "      'highlightColor': [252, 242, 26, 255],\n",
       "      'columns': {'lat': 'end_lat', 'lng': 'end_lon'},\n",
       "      'isVisible': True,\n",
       "      'visConfig': {'radius': 10,\n",
       "       'fixedRadius': False,\n",
       "       'opacity': 0.8,\n",
       "       'outline': False,\n",
       "       'thickness': 2,\n",
       "       'strokeColor': None,\n",
       "       'colorRange': {'name': 'Global Warming',\n",
       "        'type': 'sequential',\n",
       "        'category': 'Uber',\n",
       "        'colors': ['#5A1846',\n",
       "         '#900C3F',\n",
       "         '#C70039',\n",
       "         '#E3611C',\n",
       "         '#F1920E',\n",
       "         '#FFC300']},\n",
       "       'strokeColorRange': {'name': 'Global Warming',\n",
       "        'type': 'sequential',\n",
       "        'category': 'Uber',\n",
       "        'colors': ['#5A1846',\n",
       "         '#900C3F',\n",
       "         '#C70039',\n",
       "         '#E3611C',\n",
       "         '#F1920E',\n",
       "         '#FFC300']},\n",
       "       'radiusRange': [0, 50],\n",
       "       'filled': True},\n",
       "      'hidden': False,\n",
       "      'textLabel': [{'field': None,\n",
       "        'color': [255, 255, 255],\n",
       "        'size': 18,\n",
       "        'offset': [0, 0],\n",
       "        'anchor': 'start',\n",
       "        'alignment': 'center',\n",
       "        'outlineWidth': 0,\n",
       "        'outlineColor': [255, 0, 0, 255],\n",
       "        'background': False,\n",
       "        'backgroundColor': [0, 0, 200, 255]}]},\n",
       "     'visualChannels': {'colorField': None,\n",
       "      'colorScale': 'quantile',\n",
       "      'strokeColorField': None,\n",
       "      'strokeColorScale': 'quantile',\n",
       "      'sizeField': None,\n",
       "      'sizeScale': 'linear'}},\n",
       "    {'id': '94pl0di',\n",
       "     'type': 'arc',\n",
       "     'config': {'dataId': 'NYC Trips',\n",
       "      'label': 'start -> end arc',\n",
       "      'color': [250, 161, 0],\n",
       "      'highlightColor': [252, 242, 26, 255],\n",
       "      'columns': {'lat0': 'start_lat',\n",
       "       'lng0': 'start_lon',\n",
       "       'lat1': 'end_lat',\n",
       "       'lng1': 'end_lon'},\n",
       "      'isVisible': True,\n",
       "      'visConfig': {'opacity': 0.8,\n",
       "       'thickness': 2,\n",
       "       'colorRange': {'name': 'Global Warming',\n",
       "        'type': 'sequential',\n",
       "        'category': 'Uber',\n",
       "        'colors': ['#5A1846',\n",
       "         '#900C3F',\n",
       "         '#C70039',\n",
       "         '#E3611C',\n",
       "         '#F1920E',\n",
       "         '#FFC300']},\n",
       "       'sizeRange': [0, 10],\n",
       "       'targetColor': [255, 254, 230]},\n",
       "      'hidden': False,\n",
       "      'textLabel': [{'field': None,\n",
       "        'color': [255, 255, 255],\n",
       "        'size': 18,\n",
       "        'offset': [0, 0],\n",
       "        'anchor': 'start',\n",
       "        'alignment': 'center',\n",
       "        'outlineWidth': 0,\n",
       "        'outlineColor': [255, 0, 0, 255],\n",
       "        'background': False,\n",
       "        'backgroundColor': [0, 0, 200, 255]}]},\n",
       "     'visualChannels': {'colorField': None,\n",
       "      'colorScale': 'quantile',\n",
       "      'sizeField': None,\n",
       "      'sizeScale': 'linear'}}],\n",
       "   'effects': [],\n",
       "   'interactionConfig': {'tooltip': {'fieldsToShow': {'NYC Trips': [{'name': 'start_station_name',\n",
       "        'format': None},\n",
       "       {'name': 'end_station_name', 'format': None},\n",
       "       {'name': 'trips', 'format': None}]},\n",
       "     'compareMode': False,\n",
       "     'compareType': 'absolute',\n",
       "     'enabled': True},\n",
       "    'brush': {'size': 0.5, 'enabled': False},\n",
       "    'geocoder': {'enabled': False},\n",
       "    'coordinate': {'enabled': False}},\n",
       "   'layerBlending': 'normal',\n",
       "   'overlayBlending': 'normal',\n",
       "   'splitMaps': [],\n",
       "   'animationConfig': {'currentTime': None, 'speed': 1},\n",
       "   'editor': {'features': [], 'visible': True}},\n",
       "  'mapState': {'bearing': 0,\n",
       "   'dragRotate': False,\n",
       "   'latitude': 40.745382331612994,\n",
       "   'longitude': -73.96327809182318,\n",
       "   'pitch': 0,\n",
       "   'zoom': 10.129229430677336,\n",
       "   'isSplit': False,\n",
       "   'isViewportSynced': True,\n",
       "   'isZoomLocked': False,\n",
       "   'splitMapViewports': []},\n",
       "  'mapStyle': {'styleType': 'dark-matter',\n",
       "   'topLayerGroups': {},\n",
       "   'visibleLayerGroups': {'label': True,\n",
       "    'road': True,\n",
       "    'border': False,\n",
       "    'building': True,\n",
       "    'water': True,\n",
       "    'land': True,\n",
       "    '3d building': False},\n",
       "   'threeDBuildingColor': [15.035172933000911,\n",
       "    15.035172933000911,\n",
       "    15.035172933000911],\n",
       "   'backgroundColor': [0, 0, 0],\n",
       "   'mapStyles': {}}}}"
      ]
     },
     "execution_count": 44,
     "metadata": {},
     "output_type": "execute_result"
    }
   ],
   "source": [
    "kepler_config"
   ]
  },
  {
   "cell_type": "code",
   "execution_count": 45,
   "id": "86b06154-a62b-45ae-bbd8-442df486aea5",
   "metadata": {},
   "outputs": [],
   "source": [
    "import json\n",
    "with open(\"config.json\", \"w\") as outfile:\n",
    "    json.dump(kepler_config, outfile)"
   ]
  },
  {
   "cell_type": "code",
   "execution_count": 46,
   "id": "1cfb50fa-bb9d-4cb8-9cf5-cb173a3c8d51",
   "metadata": {},
   "outputs": [
    {
     "name": "stdout",
     "output_type": "stream",
     "text": [
      "Map saved to Citibike Trips Aggregated.html!\n"
     ]
    }
   ],
   "source": [
    "m.save_to_html(file_name = 'Citibike Trips Aggregated.html', read_only = False, config = kepler_config)"
   ]
  },
  {
   "cell_type": "code",
   "execution_count": null,
   "id": "03c8d71a-45b0-4b02-8ffc-d44e9361f0bb",
   "metadata": {},
   "outputs": [],
   "source": []
  }
 ],
 "metadata": {
  "kernelspec": {
   "display_name": "Python (kepler_env)",
   "language": "python",
   "name": "kepler_env"
  },
  "language_info": {
   "codemirror_mode": {
    "name": "ipython",
    "version": 3
   },
   "file_extension": ".py",
   "mimetype": "text/x-python",
   "name": "python",
   "nbconvert_exporter": "python",
   "pygments_lexer": "ipython3",
   "version": "3.10.16"
  }
 },
 "nbformat": 4,
 "nbformat_minor": 5
}
